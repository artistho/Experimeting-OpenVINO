{
  "nbformat": 4,
  "nbformat_minor": 0,
  "metadata": {
    "colab": {
      "name": "keras2OpenVINO.ipynb",
      "version": "0.3.2",
      "provenance": [],
      "include_colab_link": true
    },
    "kernelspec": {
      "name": "python3",
      "display_name": "Python 3"
    },
    "accelerator": "GPU"
  },
  "cells": [
    {
      "cell_type": "markdown",
      "metadata": {
        "id": "view-in-github",
        "colab_type": "text"
      },
      "source": [
        "<a href=\"https://colab.research.google.com/github/artistho/Experimeting-OpenVINO/blob/master/keras2OpenVINO.ipynb\" target=\"_parent\"><img src=\"https://colab.research.google.com/assets/colab-badge.svg\" alt=\"Open In Colab\"/></a>"
      ]
    },
    {
      "metadata": {
        "id": "0j3w-d6injh2",
        "colab_type": "text"
      },
      "cell_type": "markdown",
      "source": [
        "#####Install<br>\n",
        "Tensorflow 2.0 <br>\n",
        "Access to gdrive "
      ]
    },
    {
      "metadata": {
        "id": "HuO0JkTjhvLm",
        "colab_type": "code",
        "colab": {}
      },
      "cell_type": "code",
      "source": [
        "# Install TF 2.0 \n",
        "!pip install -q tensorflow==2.0.0-alpha0"
      ],
      "execution_count": 0,
      "outputs": []
    },
    {
      "metadata": {
        "id": "DraN-LwnSJpw",
        "colab_type": "code",
        "colab": {}
      },
      "cell_type": "code",
      "source": [
        "# Install access to Google Drive\n",
        "from google.colab import drive\n",
        "drive.mount('/content/gdrive', force_remount = True)"
      ],
      "execution_count": 0,
      "outputs": []
    },
    {
      "metadata": {
        "id": "eIVuGpTiDUDy",
        "colab_type": "code",
        "colab": {
          "base_uri": "https://localhost:8080/",
          "height": 154
        },
        "outputId": "e29f3c15-9670-4543-d2ad-b013c730e0b1"
      },
      "cell_type": "code",
      "source": [
        "# pydot is an interface to GraphViz(used to render graphs as PDF, PNG, SVG, etc.)\n",
        "!pip install -q pydot\n",
        "!apt-get install graphviz"
      ],
      "execution_count": 23,
      "outputs": [
        {
          "output_type": "stream",
          "text": [
            "Reading package lists... Done\n",
            "Building dependency tree       \n",
            "Reading state information... Done\n",
            "graphviz is already the newest version (2.40.1-2).\n",
            "The following package was automatically installed and is no longer required:\n",
            "  libnvidia-common-410\n",
            "Use 'apt autoremove' to remove it.\n",
            "0 upgraded, 0 newly installed, 0 to remove and 6 not upgraded.\n"
          ],
          "name": "stdout"
        }
      ]
    },
    {
      "metadata": {
        "id": "spwlzeUmUt9O",
        "colab_type": "text"
      },
      "cell_type": "markdown",
      "source": [
        "#####Import the required libraries"
      ]
    },
    {
      "metadata": {
        "id": "8VLkyNlAToZI",
        "colab_type": "code",
        "colab": {
          "base_uri": "https://localhost:8080/",
          "height": 34
        },
        "outputId": "1d440556-f863-40a0-f9a9-4c228f670419"
      },
      "cell_type": "code",
      "source": [
        "# To write a Python 2/3 compatible codebase\n",
        "from __future__ import absolute_import, division, print_function, unicode_literals\n",
        "\n",
        "# TF keras lib\n",
        "import tensorflow as tf\n",
        "from tensorflow import keras\n",
        "from tensorflow.keras import layers\n",
        "\n",
        "# To interact with file system\n",
        "from pathlib import Path\n",
        "\n",
        "print(\"tf version is {} and \".format(tf.__version__), \"keras version is {}\".format(keras.__version__))"
      ],
      "execution_count": 27,
      "outputs": [
        {
          "output_type": "stream",
          "text": [
            "tf version is 2.0.0-alpha0 and  keras version is 2.2.4-tf\n"
          ],
          "name": "stdout"
        }
      ]
    },
    {
      "metadata": {
        "id": "-uZYppOFVuYy",
        "colab_type": "text"
      },
      "cell_type": "markdown",
      "source": [
        "#####Create dir in gdrive"
      ]
    },
    {
      "metadata": {
        "id": "U2bNBKKxrzmP",
        "colab_type": "code",
        "colab": {}
      },
      "cell_type": "code",
      "source": [
        "# Create respective directories in gdrive\n",
        "root_dir = '/content/gdrive/My Drive/'\n",
        "base_dir = root_dir + '/TF/'\n",
        "path_data = Path(base_dir + 'data')\n",
        "dest = path_data\n",
        "dest.mkdir(parents = True, exist_ok = True)\n"
      ],
      "execution_count": 0,
      "outputs": []
    },
    {
      "metadata": {
        "id": "WpU1stwpXRx6",
        "colab_type": "text"
      },
      "cell_type": "markdown",
      "source": [
        "#####Create the model"
      ]
    },
    {
      "metadata": {
        "id": "aVyEkdSTEJ1l",
        "colab_type": "code",
        "colab": {}
      },
      "cell_type": "code",
      "source": [
        "# For easy reset of notebook state\n",
        "tf.keras.backend.clear_session()"
      ],
      "execution_count": 0,
      "outputs": []
    },
    {
      "metadata": {
        "id": "RmDNCJYxELVW",
        "colab_type": "code",
        "colab": {}
      },
      "cell_type": "code",
      "source": [
        "# Create an input node.\n",
        "# Shape is 784(28 * 28), shape of mnist img.\n",
        "inputs = keras.Input(shape = (784))"
      ],
      "execution_count": 0,
      "outputs": []
    },
    {
      "metadata": {
        "id": "fNCHq9pzFTHL",
        "colab_type": "code",
        "colab": {
          "base_uri": "https://localhost:8080/",
          "height": 291
        },
        "outputId": "b698ce95-1bc8-419e-ddc5-f4b6f8f4f03a"
      },
      "cell_type": "code",
      "source": [
        "# Create 2 fully connected layers with 64 activation neurons.  Activation function is relu.\n",
        "x = layers.Dense(64, activation='relu')(inputs)\n",
        "x = layers.Dense(64, activation='relu')(x)\n",
        "\n",
        "# Create 1(final) fully connected layer with 10 activation neurons.  Activation function is softmax.\n",
        "outputs = layers.Dense(10, activation='softmax')(x)\n",
        "\n",
        "# Final model creation\n",
        "model = keras.Model(inputs=inputs, outputs=outputs, name = \"minist_model\")\n",
        "\n",
        "# Print the model\n",
        "model.summary()"
      ],
      "execution_count": 29,
      "outputs": [
        {
          "output_type": "stream",
          "text": [
            "Model: \"minist_model\"\n",
            "_________________________________________________________________\n",
            "Layer (type)                 Output Shape              Param #   \n",
            "=================================================================\n",
            "input_1 (InputLayer)         [(None, 784)]             0         \n",
            "_________________________________________________________________\n",
            "dense (Dense)                (None, 64)                50240     \n",
            "_________________________________________________________________\n",
            "dense_1 (Dense)              (None, 64)                4160      \n",
            "_________________________________________________________________\n",
            "dense_2 (Dense)              (None, 10)                650       \n",
            "=================================================================\n",
            "Total params: 55,050\n",
            "Trainable params: 55,050\n",
            "Non-trainable params: 0\n",
            "_________________________________________________________________\n"
          ],
          "name": "stdout"
        }
      ]
    },
    {
      "metadata": {
        "id": "AawgludMsNVg",
        "colab_type": "text"
      },
      "cell_type": "markdown",
      "source": [
        "#####Load MNIST data"
      ]
    },
    {
      "metadata": {
        "id": "jOTBuKcFtlAi",
        "colab_type": "code",
        "colab": {}
      },
      "cell_type": "code",
      "source": [
        "# Load data from data available in keras datasets.\n",
        "(x_train, y_train), (x_test, y_test) = keras.datasets.mnist.load_data()\n",
        "\n",
        "# Divide by 255, this is the maximum value of a byte (the input feature's type before the conversion to float32), \n",
        "# so this will ensure that the input features are scaled between 0.0 and 1.0. \n",
        "# At one point the training data will have to be converted to 32 bit floats, we converted immediately first(the\n",
        "# data fits into RAM).  \n",
        "\n",
        "x_train = x_train.reshape(60000, 784).astype('float32') / 255\n",
        "x_test = x_test.reshape(10000, 784).astype('float32') / 255\n"
      ],
      "execution_count": 0,
      "outputs": []
    },
    {
      "metadata": {
        "id": "lKUmBSbg384u",
        "colab_type": "text"
      },
      "cell_type": "markdown",
      "source": [
        "#####Training and evaluation loop"
      ]
    },
    {
      "metadata": {
        "id": "F747mD8qJJ-a",
        "colab_type": "code",
        "colab": {}
      },
      "cell_type": "code",
      "source": [
        "# Configure the learning process by adding loss, optimizer and metrics to the arguments.\n",
        "model.compile(loss='sparse_categorical_crossentropy',\n",
        "              optimizer=keras.optimizers.RMSprop(),\n",
        "              metrics=['accuracy'])"
      ],
      "execution_count": 0,
      "outputs": []
    },
    {
      "metadata": {
        "id": "MzAFdncpJTMi",
        "colab_type": "code",
        "colab": {
          "base_uri": "https://localhost:8080/",
          "height": 260
        },
        "outputId": "40a6be23-a990-469a-f85f-72d44aa4810c"
      },
      "cell_type": "code",
      "source": [
        "# Fitting or training.\n",
        "history = model.fit(x_train, y_train, # data\n",
        "                    batch_size=64, # size of each batch\n",
        "                    epochs=6, # number of epochs\n",
        "                    validation_split=0.2) # create validation data with 20% of x_train datasets"
      ],
      "execution_count": 34,
      "outputs": [
        {
          "output_type": "stream",
          "text": [
            "Train on 48000 samples, validate on 12000 samples\n",
            "Epoch 1/6\n",
            "48000/48000 [==============================] - 2s 50us/sample - loss: 0.3501 - accuracy: 0.9025 - val_loss: 0.1870 - val_accuracy: 0.9481\n",
            "Epoch 2/6\n",
            "48000/48000 [==============================] - 2s 48us/sample - loss: 0.1676 - accuracy: 0.9502 - val_loss: 0.1501 - val_accuracy: 0.9557\n",
            "Epoch 3/6\n",
            "48000/48000 [==============================] - 2s 49us/sample - loss: 0.1231 - accuracy: 0.9638 - val_loss: 0.1277 - val_accuracy: 0.9632\n",
            "Epoch 4/6\n",
            "48000/48000 [==============================] - 2s 48us/sample - loss: 0.0998 - accuracy: 0.9704 - val_loss: 0.1127 - val_accuracy: 0.9678\n",
            "Epoch 5/6\n",
            "48000/48000 [==============================] - 2s 48us/sample - loss: 0.0829 - accuracy: 0.9747 - val_loss: 0.1084 - val_accuracy: 0.9689\n",
            "Epoch 6/6\n",
            "48000/48000 [==============================] - 2s 48us/sample - loss: 0.0709 - accuracy: 0.9784 - val_loss: 0.1039 - val_accuracy: 0.9689\n"
          ],
          "name": "stdout"
        }
      ]
    },
    {
      "metadata": {
        "id": "VxauAAwMJbs2",
        "colab_type": "code",
        "colab": {
          "base_uri": "https://localhost:8080/",
          "height": 51
        },
        "outputId": "e8617424-0e36-4077-f9df-3ff3d74e0a5a"
      },
      "cell_type": "code",
      "source": [
        "# .evaluate() computes the loss based on the input you pass it, along with any other metrics that you \n",
        "#   requested in the metrics param when you compiled your model.\n",
        "test_scores = model.evaluate(x_test, y_test, verbose=0)\n",
        "\n",
        "# Printing the test results.\n",
        "print('Test loss:', test_scores[0])\n",
        "print('Test accuracy:', test_scores[1])"
      ],
      "execution_count": 56,
      "outputs": [
        {
          "output_type": "stream",
          "text": [
            "Test loss: 0.09543134405561723\n",
            "Test accuracy: 0.9714\n"
          ],
          "name": "stdout"
        }
      ]
    },
    {
      "metadata": {
        "id": "YR8gwgA7-Ywk",
        "colab_type": "code",
        "colab": {}
      },
      "cell_type": "code",
      "source": [
        "# .predict() generates output predictions based on the input you pass it.\n",
        "predictions = model.predict(x_test)"
      ],
      "execution_count": 0,
      "outputs": []
    },
    {
      "metadata": {
        "id": "hVtODT-P4D1V",
        "colab_type": "text"
      },
      "cell_type": "markdown",
      "source": [
        "#####Save the model in .h5"
      ]
    },
    {
      "metadata": {
        "id": "xBDpgU_iJuXV",
        "colab_type": "code",
        "colab": {}
      },
      "cell_type": "code",
      "source": [
        "# Save the model in .h5 format\n",
        "model.save(path_data / \"keras2OpenVINO.h5\")"
      ],
      "execution_count": 0,
      "outputs": []
    },
    {
      "metadata": {
        "id": "4AMQq5QPEZW2",
        "colab_type": "code",
        "colab": {}
      },
      "cell_type": "code",
      "source": [
        "# Recreate the exact same model \n",
        "check_model = keras.models.load_model(path_data / \"keras2OpenVINO.h5\")"
      ],
      "execution_count": 0,
      "outputs": []
    },
    {
      "metadata": {
        "id": "UQbxcPPEE0zj",
        "colab_type": "code",
        "colab": {}
      },
      "cell_type": "code",
      "source": [
        "import numpy as np\n",
        "# Check that the state is preserved\n",
        "check_predictions = check_model.predict(x_test)\n",
        "np.testing.assert_allclose(predictions, check_predictions, atol=1e-6)"
      ],
      "execution_count": 0,
      "outputs": []
    },
    {
      "metadata": {
        "id": "covdhur5FIDF",
        "colab_type": "text"
      },
      "cell_type": "markdown",
      "source": [
        "#####Save the model in .pb"
      ]
    },
    {
      "metadata": {
        "id": "Phgvj2OE_tHX",
        "colab_type": "code",
        "colab": {
          "base_uri": "https://localhost:8080/",
          "height": 51
        },
        "outputId": "c9c2ac7f-15ca-456c-ce3e-eb73a7f154cb"
      },
      "cell_type": "code",
      "source": [
        "# Export the model to a saved_model(serialized)\n",
        "keras.experimental.export_saved_model(model, '/content/gdrive/My Drive/TF/keras2OpenVINO')\n"
      ],
      "execution_count": 62,
      "outputs": [
        {
          "output_type": "stream",
          "text": [
            "W0415 08:23:21.092509 140324652828544 tf_logging.py:161] Export includes no default signature!\n",
            "W0415 08:23:21.710744 140324652828544 tf_logging.py:161] Export includes no default signature!\n"
          ],
          "name": "stderr"
        }
      ]
    },
    {
      "metadata": {
        "id": "g1qL2L3R7LTj",
        "colab_type": "code",
        "colab": {}
      },
      "cell_type": "code",
      "source": [
        "# Recreate the model\n",
        "new_model = keras.experimental.load_from_saved_model('/content/gdrive/My Drive/TF/keras2OpenVINO')\n",
        "\n",
        "# Check that the state is preserved\n",
        "new_predictions = new_model.predict(x_test)\n",
        "np.testing.assert_allclose(predictions, new_predictions, atol=1e-6)"
      ],
      "execution_count": 0,
      "outputs": []
    },
    {
      "metadata": {
        "id": "qTZK8tmEW4Yw",
        "colab_type": "code",
        "colab": {}
      },
      "cell_type": "code",
      "source": [
        ""
      ],
      "execution_count": 0,
      "outputs": []
    }
  ]
}